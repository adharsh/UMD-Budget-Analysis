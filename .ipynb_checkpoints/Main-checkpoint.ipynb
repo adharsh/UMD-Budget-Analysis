{
 "cells": [
  {
   "cell_type": "code",
   "execution_count": null,
   "metadata": {},
   "outputs": [],
   "source": [
    "avg_df = salaries.groupby(['Year']).mean()\n",
    "# avg_df.columns = [\"Year\", \"Average Salary\"]\n",
    "\n",
    "avg_df.drop(['index'], axis=1)\n",
    "avg_df = avg_df.reset_index()\n"
   ]
  },
  {
   "cell_type": "code",
   "execution_count": null,
   "metadata": {},
   "outputs": [],
   "source": [
    "#increase in avg salary\n",
    "\n",
    "import seaborn as sns\n",
    "\n",
    "sns.lineplot(x=\"Year\", y=\"Salary\", data=avg_df).set_title(\"Average Salaries at UMD from 2013-2019 (from DBK Data)\")\n"
   ]
  },
  {
   "cell_type": "code",
   "execution_count": null,
   "metadata": {},
   "outputs": [],
   "source": [
    "# We should consider changing this to only show the top 50 departments with highest average salary and show their change\n",
    "# No real meaning to the graph if we can't understand itbb \n",
    "\n",
    "import matplotlib.pyplot as plt\n",
    "from matplotlib.pyplot import figure\n",
    "import plotly.express as px\n",
    "\n",
    "#deparments with highest avg salary\n",
    "dept_averages = salaries.groupby(['Year','Department']).mean()\n",
    "dept_averages = dept_averages.reset_index()\n",
    "\n",
    "departments = salaries.Department.unique()\n",
    "\n",
    "\n",
    "fig = px.line(dept_averages, x=\"Year\", y=\"Salary\", color=\"Department\",\n",
    "              hover_name=\"Department\")\n",
    "\n",
    "fig.show()\n",
    "\n",
    "fig = px.scatter(dept_averages, x=\"Year\", y=\"Salary\", size=\"Salary\", color=\"Department\",\n",
    "           hover_name=\"Department\", log_x=True, size_max=60)\n",
    "\n",
    "fig.show()\n",
    "# figure(figsize=[20, 12])\n",
    "\n",
    "# for i in range(len(departments)):\n",
    "#     str_dept = departments[i]\n",
    "#     averages = dept_averages.loc[dept_averages['Department'] == str_dept].sort_values(by='Year', ascending=True)['Salary']\n",
    "#     years = dept_averages.loc[dept_averages['Department'] == str_dept].sort_values(by='Year', ascending=True)['Year']\n",
    "# #     print(str_dept)\n",
    "# #     print(len(averages.values))\n",
    "# #     print()\n",
    "#     plt.plot(list(years.values), list(averages.values), linewidth=4, label=str_dept);\n",
    "\n",
    "# plt.title(\"Average Salary for Each Department from 2013 - 2019\", fontsize=27)\n",
    "# # plt.xlabel(\"asd\", fontsize=25)\n",
    "# # plt.ylabel(\"Number of Crimes\", fontsize=25)\n",
    "# # plt.xticks(fontsize=22)\n",
    "# # plt.yticks(fontsize=22)\n",
    "# plt.legend(loc='center left', bbox_to_anchor=(1, 0.5), prop={'size': 30})\n",
    "# plt.show()\n"
   ]
  },
  {
   "cell_type": "code",
   "execution_count": null,
   "metadata": {},
   "outputs": [],
   "source": [
    "# Idea for ML - predict salary based on Title, Department, and Division "
   ]
  }
 ],
 "metadata": {
  "kernelspec": {
   "display_name": "Python 3",
   "language": "python",
   "name": "python3"
  },
  "language_info": {
   "codemirror_mode": {
    "name": "ipython",
    "version": 3
   },
   "file_extension": ".py",
   "mimetype": "text/x-python",
   "name": "python",
   "nbconvert_exporter": "python",
   "pygments_lexer": "ipython3",
   "version": "3.7.3"
  }
 },
 "nbformat": 4,
 "nbformat_minor": 2
}
