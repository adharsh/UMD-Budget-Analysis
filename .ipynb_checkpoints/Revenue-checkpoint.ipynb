{
 "cells": [
  {
   "cell_type": "markdown",
   "metadata": {},
   "source": [
    "# Revenue from 2012 - 2020"
   ]
  },
  {
   "cell_type": "markdown",
   "metadata": {},
   "source": [
    "Revenue data can be found on this site: http://otcads.umd.edu/bfa/budgetinfo3.htm  \n",
    "For every \"FY\" year, there is a \"Revenues\" dataset that describes how much revenue was obtained that year and from what areas was that revenue obtained. Some of the data was available on a \".htm\" file, so it was easy to scrape and return a pandas dataframe. A lot of the data was on pdf's, so each pdf had to be manually copied and pasted into strings. I then did some split and regex operations to separate out the data."
   ]
  },
  {
   "cell_type": "code",
   "execution_count": 1,
   "metadata": {},
   "outputs": [],
   "source": [
    "import requests\n",
    "import pandas as pd\n",
    "from bs4 import BeautifulSoup\n",
    "import pickle\n",
    "import re"
   ]
  },
  {
   "cell_type": "markdown",
   "metadata": {},
   "source": [
    "## Scraping"
   ]
  },
  {
   "cell_type": "markdown",
   "metadata": {},
   "source": [
    "For the years 2016, 2017, 2019, and 2020, there were \".htm\" files. A unique url can be created from specifiying the year. The url doesn't except for 2016. "
   ]
  },
  {
   "cell_type": "code",
   "execution_count": 2,
   "metadata": {},
   "outputs": [],
   "source": [
    "def create_revenue_df(url, year):\n",
    "    r = requests.get(url)\n",
    "    soup = BeautifulSoup(r.text,'html.parser')\n",
    "\n",
    "    str_table = []\n",
    "\n",
    "    if(len(soup.find_all('table')) == 0):\n",
    "        return pd.DataFrame()\n",
    "    table = soup.find_all('table')[0]\n",
    "    for e in table.find_all('td'):\n",
    "        if(not e.text.strip().isspace() and len(e.text.strip()) != 0):\n",
    "            str_table.append(e.text.strip().replace('\\r', '').replace('\\n','').replace('\\xa0', ''))\n",
    "\n",
    "    i = str_table.index('UNRESTRICTED  REVENUE') + 3\n",
    "\n",
    "    revenues_tmp = pd.DataFrame(columns=['Restricted Type', 'Revenue Type', 'Amount', '% of Total'])\n",
    "\n",
    "    while(i <= str_table.index('RESTRICTED  REVENUE') - 1):    \n",
    "        dictionary = {\n",
    "            'Year' : int(year),\n",
    "            'Restricted Type' : 'Unrestricted',\n",
    "            'Revenue Type' : str_table[i].title(),\n",
    "            'Amount' : str_table[i + 1],\n",
    "            '% of Total' : str_table[i + 2],\n",
    "        }\n",
    "        revenues_tmp = revenues_tmp.append(dictionary, ignore_index=True)\n",
    "        i = i + 3\n",
    "\n",
    "    i = str_table.index('RESTRICTED  REVENUE') + 3\n",
    "    while(i <= len(str_table) - 1):    \n",
    "        dictionary = {\n",
    "            'Year' : int(year),\n",
    "            'Restricted Type' : 'Restricted',\n",
    "            'Revenue Type' : str_table[i].title().strip(),\n",
    "            'Amount' : str_table[i + 1],\n",
    "            '% of Total' : str_table[i + 2],\n",
    "        }\n",
    "        revenues_tmp = revenues_tmp.append(dictionary, ignore_index=True)\n",
    "        i = i + 3\n",
    "    \n",
    "    revenues_tmp['Year'] = revenues_tmp['Year'].astype(int)\n",
    "    return revenues_tmp"
   ]
  },
  {
   "cell_type": "markdown",
   "metadata": {},
   "source": [
    "A unique url for 2016 had to be given since it's different."
   ]
  },
  {
   "cell_type": "code",
   "execution_count": 3,
   "metadata": {},
   "outputs": [],
   "source": [
    "revenue_dfs = []\n",
    "\n",
    "for year in [2017, 2019, 2020]:\n",
    "    str_year = str(year%100)\n",
    "    url = \"http://otcads.umd.edu/bfa/FY\" + str_year + \"%20Working%20Budget/Web/FY\" + str_year + \"%20REVENUE%20TOTAL%20OP%20BUDGET_files/sheet001.htm\"\n",
    "    revenue_dfs.append(create_revenue_df(url, year))\n",
    "    \n",
    "\n",
    "url = \"http://otcads.umd.edu/bfa/FY16%20Working%20Budget/web2/FY16%20REVENUE_files/sheet001.htm\"\n",
    "revenue_dfs.append(create_revenue_df(url, 2016))"
   ]
  },
  {
   "cell_type": "markdown",
   "metadata": {},
   "source": [
    "## Copying pdf text and parsing this data into pandas dataframes"
   ]
  },
  {
   "cell_type": "markdown",
   "metadata": {},
   "source": [
    "valid_scraping_years contains all the years for which url's can be scrapped.  \n",
    "invalid_scraping_years contains all the years for which url's cannot be scraped and had to be manually copied and pasted below."
   ]
  },
  {
   "cell_type": "code",
   "execution_count": 4,
   "metadata": {},
   "outputs": [
    {
     "data": {
      "text/plain": [
       "[2012, 2013, 2014, 2015, 2018]"
      ]
     },
     "execution_count": 4,
     "metadata": {},
     "output_type": "execute_result"
    }
   ],
   "source": [
    "valid_scraping_years = set([2016, 2017, 2019, 2020])\n",
    "invalid_scraping_years = set(list(range(2012, 2020 + 1))) - valid_scraping_years\n",
    "invalid_scraping_years = sorted(invalid_scraping_years)\n",
    "invalid_scraping_years"
   ]
  },
  {
   "cell_type": "markdown",
   "metadata": {},
   "source": [
    "`str_data_<year>` specifies the revenue data copied from the pdf online for that particular year. "
   ]
  },
  {
   "cell_type": "code",
   "execution_count": 5,
   "metadata": {},
   "outputs": [],
   "source": [
    "str_data_2013 = \"\"\"UNRESTRICTED REVENUE AMOUNT % OF TOTAL\n",
    "STATE APPROPRIATIONS $415,677,998 23.9%\n",
    "TUITION AND FEES 473,762,537 27.3%\n",
    "AUXILIARY ENTERPRISES 237,091,682 13.7%\n",
    "GOVT. & PRIVATE GIFTS, GRANTS 95,889,934 5.5%\n",
    "SALES & SERVICES OF EDUC. ACTIVITIES 36,731,124 2.1%\n",
    "OTHER SOURCES 48,655,303 2.8%\n",
    "TOTAL UNRESTRICTED $1,307,808,578 75.3%\n",
    "RESTRICTED REVENUE AMOUNT % OF TOTAL\n",
    "FEDERAL GRANTS & CONTRACTS $316,583,680 18.2%\n",
    "PRIVATE GIFTS, GRANTS & CONTRACTS 56,196,528 3.2%\n",
    "STATE & LOCAL GRANTS & CONTRACTS 55,275,957 3.2%\n",
    "TOTAL RESTRICTED $428,056,165 24.7%\n",
    "TOTAL OPERATING BUDGET $1,735,864,743 100.0%\"\"\"\n",
    "\n",
    "str_data_2014 = \"\"\"UNRESTRICTED REVENUE AMOUNT % OF TOTAL\n",
    "STATE APPROPRIATIONS $452,597,423 25.0%\n",
    "TUITION AND FEES 488,480,692 27.0%\n",
    "AUXILIARY ENTERPRISES 243,018,974 13.4%\n",
    "GOVT. & PRIVATE GIFTS, GRANTS 97,735,778 5.4%\n",
    "SALES & SERVICES OF EDUC. ACTIVITIES 39,760,630 2.2%\n",
    "OTHER SOURCES 55,600,922 3.1%\n",
    "TOTAL UNRESTRICTED $1,377,194,419 76.0%\n",
    "RESTRICTED REVENUE AMOUNT % OF TOTAL\n",
    "FEDERAL GRANTS & CONTRACTS $321,135,466 17.7%\n",
    "PRIVATE GIFTS, GRANTS & CONTRACTS 60,696,407 3.3%\n",
    "STATE & LOCAL GRANTS & CONTRACTS 53,309,313 2.9%\n",
    "TOTAL RESTRICTED $435,141,186 24.0%\n",
    "TOTAL OPERATING BUDGET $1,812,335,605 100.0%\"\"\"\n",
    "\n",
    "str_data_2015 = \"\"\"UNRESTRICTED REVENUE AMOUNT % OF TOTAL\n",
    "STATE APPROPRIATIONS $481,965,257 25.9%\n",
    "TUITION AND FEES 501,034,829 26.9%\n",
    "AUXILIARY ENTERPRISES 263,330,277 14.1%\n",
    "GOVT. & PRIVATE GIFTS, GRANTS 93,327,349 5.0%\n",
    "SALES & SERVICES OF EDUC. ACTIVITIES 40,823,846 2.2%\n",
    "OTHER SOURCES 51,815,682 2.8%\n",
    "TOTAL UNRESTRICTED $1,432,297,240 76.9%\n",
    "RESTRICTED REVENUE AMOUNT % OF TOTAL\n",
    "FEDERAL GRANTS & CONTRACTS $310,131,257 16.7%\n",
    "PRIVATE GIFTS, GRANTS & CONTRACTS 58,063,001 3.1%\n",
    "STATE & LOCAL GRANTS & CONTRACTS 60,888,390 3.3%\n",
    "TOTAL RESTRICTED $429,082,648 23.1%\n",
    "TOTAL OPERATING BUDGET $1,861,379,888 100.0%\"\"\"\n",
    "\n",
    "str_data_2018 = \"\"\"UNRESTRICTED REVENUE AMOUNT % OF TOTAL\n",
    "STATE APPROPRIATIONS $514,351,133 24.6%\n",
    "TUITION AND FEES 621,741,855 29.7%\n",
    "AUXILIARY ENTERPRISES 291,066,720 13.9%\n",
    "GOVT. & PRIVATE GIFTS, GRANTS 110,756,251 5.3%\n",
    "SALES & SERVICES OF EDUC. ACTIVITIES 50,976,365 2.4%\n",
    "OTHER SOURCES 51,422,534 2.5%\n",
    "TOTAL UNRESTRICTED $1,640,314,858 78.5%\n",
    "RESTRICTED REVENUE AMOUNT % OF TOTAL\n",
    "FEDERAL GRANTS & CONTRACTS $323,616,899 15.5%\n",
    "PRIVATE GIFTS, GRANTS & CONTRACTS 62,833,013 3.0%\n",
    "STATE & LOCAL GRANTS & CONTRACTS 63,602,899 3.0%\n",
    "TOTAL RESTRICTED $450,052,811 21.5%\n",
    "TOTAL OPERATING BUDGET $2,090,367,669 100.0%\"\"\"\n",
    "\n",
    "str_data_2012 = \"\"\"UNRESTRICTED REVENUE AMOUNT % OF TOTAL\n",
    "STATE APPROPRIATIONS $413,391,061 24.5%\n",
    "TUITION AND FEES 452,877,295 26.8%\n",
    "AUXILIARY ENTERPRISES 236,629,383 14.0%\n",
    "GOVT. & PRIVATE GIFTS, GRANTS 86,349,961 5.1%\n",
    "SALES & SERVICES OF EDUC. ACTIVITIES 34,484,600 2.0%\n",
    "OTHER SOURCES 50,248,886 3.0%\n",
    "TOTAL UNRESTRICTED $1,273,981,186 75.5%\n",
    "RESTRICTED REVENUE AMOUNT % OF TOTAL\n",
    "FEDERAL GRANTS & CONTRACTS $300,116,981 17.8%\n",
    "PRIVATE GIFTS, GRANTS & CONTRACTS 54,320,846 3.2%\n",
    "STATE & LOCAL GRANTS & CONTRACTS 59,540,073 3.5%\n",
    "TOTAL RESTRICTED $413,977,900 24.5%\n",
    "TOTAL OPERATING BUDGET $1,687,959,086 100.0%\"\"\"\n",
    "\n",
    "str_data = [str_data_2012, str_data_2013, str_data_2014, str_data_2015, str_data_2018]"
   ]
  },
  {
   "cell_type": "markdown",
   "metadata": {},
   "source": [
    "## Parsing"
   ]
  },
  {
   "cell_type": "markdown",
   "metadata": {},
   "source": [
    "Now that all the data for the revenue has been painfully collected, the following code will parse the text and append revenue dataframes to the revenue_dfs list."
   ]
  },
  {
   "cell_type": "code",
   "execution_count": 6,
   "metadata": {},
   "outputs": [],
   "source": [
    "revenues_tmp = pd.DataFrame()\n",
    "\n",
    "for i in range(len(str_data)):\n",
    "    \n",
    "    lines = str_data[i].split('\\n')\n",
    "    year = int(invalid_scraping_years[i])\n",
    "    \n",
    "    restricted_type = ''\n",
    "    for line in lines:\n",
    "        elements = line.split()\n",
    "        if(elements[0] == 'UNRESTRICTED'):\n",
    "            restricted_type = 'Unrestricted'\n",
    "            continue\n",
    "        if(elements[0] == 'RESTRICTED'):\n",
    "            restricted_type = 'Restricted'\n",
    "            continue\n",
    "\n",
    "        row_desc = ''\n",
    "        for e in elements[:-2]:\n",
    "            row_desc = row_desc + \" \" + e\n",
    "        row_desc = row_desc.title()\n",
    "        \n",
    "        dictionary = {\n",
    "            'Year' : int(year),\n",
    "            'Restricted Type' : restricted_type,\n",
    "            'Revenue Type' : row_desc.strip(),\n",
    "            'Amount' : elements[-2],\n",
    "            '% of Total' : elements[-1],\n",
    "        }\n",
    "        revenues_tmp = revenues_tmp.append(dictionary, ignore_index=True)\n",
    "        \n",
    "revenue_dfs.append(revenues_tmp)"
   ]
  },
  {
   "cell_type": "markdown",
   "metadata": {},
   "source": [
    "## Finalizing & Fine-tuning"
   ]
  },
  {
   "cell_type": "markdown",
   "metadata": {},
   "source": [
    "Now the data is all combined into a single revenue dataframe and relevant columns are correctly type casted."
   ]
  },
  {
   "cell_type": "code",
   "execution_count": 7,
   "metadata": {
    "scrolled": false
   },
   "outputs": [],
   "source": [
    "revenue = pd.concat(revenue_dfs, sort=False)\n",
    "revenue = revenue[['Year', 'Restricted Type', 'Revenue Type', 'Amount', '% of Total']]\n",
    "\n",
    "# with pd.option_context('display.max_rows', None, 'display.max_columns', None):\n",
    "#     print(revenue)"
   ]
  },
  {
   "cell_type": "code",
   "execution_count": 8,
   "metadata": {},
   "outputs": [],
   "source": [
    "revenue['% of Total'] = revenue['% of Total'].apply(lambda x : x.replace('%' , ''))\n",
    "revenue['Amount'] = revenue['Amount'].apply(lambda x : x.replace(',' , '').replace('$', ''))\n",
    "revenue['% of Total'] = revenue['% of Total'].astype(float)\n",
    "revenue['Amount'] = revenue['Amount'].astype(float)\n",
    "revenue['Year'] = revenue['Year'].astype(int)"
   ]
  },
  {
   "cell_type": "code",
   "execution_count": 9,
   "metadata": {},
   "outputs": [],
   "source": [
    "revenue = revenue.sort_values(by='Year', ascending=False)"
   ]
  },
  {
   "cell_type": "code",
   "execution_count": 10,
   "metadata": {},
   "outputs": [
    {
     "data": {
      "text/plain": [
       "array([2020, 2019, 2018, 2017, 2016, 2015, 2014, 2013, 2012])"
      ]
     },
     "execution_count": 10,
     "metadata": {},
     "output_type": "execute_result"
    }
   ],
   "source": [
    "revenue['Year'].unique()"
   ]
  },
  {
   "cell_type": "code",
   "execution_count": 11,
   "metadata": {},
   "outputs": [],
   "source": [
    "revenue['Revenue Type'] = revenue['Revenue Type'].apply(lambda x : re.sub(' +', ' ', x))"
   ]
  },
  {
   "cell_type": "code",
   "execution_count": 12,
   "metadata": {},
   "outputs": [],
   "source": [
    "revenue = revenue.reset_index(drop=True)"
   ]
  },
  {
   "cell_type": "code",
   "execution_count": 21,
   "metadata": {},
   "outputs": [],
   "source": [
    "revenue.loc[revenue['Revenue Type'] == 'Total Operating Budget', 'Restricted Type'] = 'Total'"
   ]
  },
  {
   "cell_type": "code",
   "execution_count": 22,
   "metadata": {},
   "outputs": [
    {
     "data": {
      "text/html": [
       "<div>\n",
       "<style scoped>\n",
       "    .dataframe tbody tr th:only-of-type {\n",
       "        vertical-align: middle;\n",
       "    }\n",
       "\n",
       "    .dataframe tbody tr th {\n",
       "        vertical-align: top;\n",
       "    }\n",
       "\n",
       "    .dataframe thead th {\n",
       "        text-align: right;\n",
       "    }\n",
       "</style>\n",
       "<table border=\"1\" class=\"dataframe\">\n",
       "  <thead>\n",
       "    <tr style=\"text-align: right;\">\n",
       "      <th></th>\n",
       "      <th></th>\n",
       "      <th>Revenue Type</th>\n",
       "      <th>Amount</th>\n",
       "      <th>% of Total</th>\n",
       "    </tr>\n",
       "    <tr>\n",
       "      <th>Restricted Type</th>\n",
       "      <th>Year</th>\n",
       "      <th></th>\n",
       "      <th></th>\n",
       "      <th></th>\n",
       "    </tr>\n",
       "  </thead>\n",
       "  <tbody>\n",
       "    <tr>\n",
       "      <td rowspan=\"9\" valign=\"top\">Restricted</td>\n",
       "      <td>2012</td>\n",
       "      <td>4</td>\n",
       "      <td>4</td>\n",
       "      <td>4</td>\n",
       "    </tr>\n",
       "    <tr>\n",
       "      <td>2013</td>\n",
       "      <td>4</td>\n",
       "      <td>4</td>\n",
       "      <td>4</td>\n",
       "    </tr>\n",
       "    <tr>\n",
       "      <td>2014</td>\n",
       "      <td>4</td>\n",
       "      <td>4</td>\n",
       "      <td>4</td>\n",
       "    </tr>\n",
       "    <tr>\n",
       "      <td>2015</td>\n",
       "      <td>4</td>\n",
       "      <td>4</td>\n",
       "      <td>4</td>\n",
       "    </tr>\n",
       "    <tr>\n",
       "      <td>2016</td>\n",
       "      <td>4</td>\n",
       "      <td>4</td>\n",
       "      <td>4</td>\n",
       "    </tr>\n",
       "    <tr>\n",
       "      <td>2017</td>\n",
       "      <td>4</td>\n",
       "      <td>4</td>\n",
       "      <td>4</td>\n",
       "    </tr>\n",
       "    <tr>\n",
       "      <td>2018</td>\n",
       "      <td>4</td>\n",
       "      <td>4</td>\n",
       "      <td>4</td>\n",
       "    </tr>\n",
       "    <tr>\n",
       "      <td>2019</td>\n",
       "      <td>4</td>\n",
       "      <td>4</td>\n",
       "      <td>4</td>\n",
       "    </tr>\n",
       "    <tr>\n",
       "      <td>2020</td>\n",
       "      <td>4</td>\n",
       "      <td>4</td>\n",
       "      <td>4</td>\n",
       "    </tr>\n",
       "    <tr>\n",
       "      <td rowspan=\"9\" valign=\"top\">Total</td>\n",
       "      <td>2012</td>\n",
       "      <td>1</td>\n",
       "      <td>1</td>\n",
       "      <td>1</td>\n",
       "    </tr>\n",
       "    <tr>\n",
       "      <td>2013</td>\n",
       "      <td>1</td>\n",
       "      <td>1</td>\n",
       "      <td>1</td>\n",
       "    </tr>\n",
       "    <tr>\n",
       "      <td>2014</td>\n",
       "      <td>1</td>\n",
       "      <td>1</td>\n",
       "      <td>1</td>\n",
       "    </tr>\n",
       "    <tr>\n",
       "      <td>2015</td>\n",
       "      <td>1</td>\n",
       "      <td>1</td>\n",
       "      <td>1</td>\n",
       "    </tr>\n",
       "    <tr>\n",
       "      <td>2016</td>\n",
       "      <td>1</td>\n",
       "      <td>1</td>\n",
       "      <td>1</td>\n",
       "    </tr>\n",
       "    <tr>\n",
       "      <td>2017</td>\n",
       "      <td>1</td>\n",
       "      <td>1</td>\n",
       "      <td>1</td>\n",
       "    </tr>\n",
       "    <tr>\n",
       "      <td>2018</td>\n",
       "      <td>1</td>\n",
       "      <td>1</td>\n",
       "      <td>1</td>\n",
       "    </tr>\n",
       "    <tr>\n",
       "      <td>2019</td>\n",
       "      <td>1</td>\n",
       "      <td>1</td>\n",
       "      <td>1</td>\n",
       "    </tr>\n",
       "    <tr>\n",
       "      <td>2020</td>\n",
       "      <td>1</td>\n",
       "      <td>1</td>\n",
       "      <td>1</td>\n",
       "    </tr>\n",
       "    <tr>\n",
       "      <td rowspan=\"9\" valign=\"top\">Unrestricted</td>\n",
       "      <td>2012</td>\n",
       "      <td>7</td>\n",
       "      <td>7</td>\n",
       "      <td>7</td>\n",
       "    </tr>\n",
       "    <tr>\n",
       "      <td>2013</td>\n",
       "      <td>7</td>\n",
       "      <td>7</td>\n",
       "      <td>7</td>\n",
       "    </tr>\n",
       "    <tr>\n",
       "      <td>2014</td>\n",
       "      <td>7</td>\n",
       "      <td>7</td>\n",
       "      <td>7</td>\n",
       "    </tr>\n",
       "    <tr>\n",
       "      <td>2015</td>\n",
       "      <td>7</td>\n",
       "      <td>7</td>\n",
       "      <td>7</td>\n",
       "    </tr>\n",
       "    <tr>\n",
       "      <td>2016</td>\n",
       "      <td>7</td>\n",
       "      <td>7</td>\n",
       "      <td>7</td>\n",
       "    </tr>\n",
       "    <tr>\n",
       "      <td>2017</td>\n",
       "      <td>7</td>\n",
       "      <td>7</td>\n",
       "      <td>7</td>\n",
       "    </tr>\n",
       "    <tr>\n",
       "      <td>2018</td>\n",
       "      <td>7</td>\n",
       "      <td>7</td>\n",
       "      <td>7</td>\n",
       "    </tr>\n",
       "    <tr>\n",
       "      <td>2019</td>\n",
       "      <td>7</td>\n",
       "      <td>7</td>\n",
       "      <td>7</td>\n",
       "    </tr>\n",
       "    <tr>\n",
       "      <td>2020</td>\n",
       "      <td>7</td>\n",
       "      <td>7</td>\n",
       "      <td>7</td>\n",
       "    </tr>\n",
       "  </tbody>\n",
       "</table>\n",
       "</div>"
      ],
      "text/plain": [
       "                      Revenue Type  Amount  % of Total\n",
       "Restricted Type Year                                  \n",
       "Restricted      2012             4       4           4\n",
       "                2013             4       4           4\n",
       "                2014             4       4           4\n",
       "                2015             4       4           4\n",
       "                2016             4       4           4\n",
       "                2017             4       4           4\n",
       "                2018             4       4           4\n",
       "                2019             4       4           4\n",
       "                2020             4       4           4\n",
       "Total           2012             1       1           1\n",
       "                2013             1       1           1\n",
       "                2014             1       1           1\n",
       "                2015             1       1           1\n",
       "                2016             1       1           1\n",
       "                2017             1       1           1\n",
       "                2018             1       1           1\n",
       "                2019             1       1           1\n",
       "                2020             1       1           1\n",
       "Unrestricted    2012             7       7           7\n",
       "                2013             7       7           7\n",
       "                2014             7       7           7\n",
       "                2015             7       7           7\n",
       "                2016             7       7           7\n",
       "                2017             7       7           7\n",
       "                2018             7       7           7\n",
       "                2019             7       7           7\n",
       "                2020             7       7           7"
      ]
     },
     "execution_count": 22,
     "metadata": {},
     "output_type": "execute_result"
    }
   ],
   "source": [
    "revenue.groupby(['Restricted Type', 'Year']).count()"
   ]
  },
  {
   "cell_type": "code",
   "execution_count": 24,
   "metadata": {},
   "outputs": [],
   "source": [
    "revenue.to_pickle('df/revenue')"
   ]
  },
  {
   "cell_type": "code",
   "execution_count": null,
   "metadata": {},
   "outputs": [],
   "source": []
  }
 ],
 "metadata": {
  "kernelspec": {
   "display_name": "Python 3",
   "language": "python",
   "name": "python3"
  },
  "language_info": {
   "codemirror_mode": {
    "name": "ipython",
    "version": 3
   },
   "file_extension": ".py",
   "mimetype": "text/x-python",
   "name": "python",
   "nbconvert_exporter": "python",
   "pygments_lexer": "ipython3",
   "version": "3.7.3"
  }
 },
 "nbformat": 4,
 "nbformat_minor": 2
}
