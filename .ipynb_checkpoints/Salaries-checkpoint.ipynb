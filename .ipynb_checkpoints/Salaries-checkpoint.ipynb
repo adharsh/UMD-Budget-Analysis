{
 "cells": [
  {
   "cell_type": "markdown",
   "metadata": {},
   "source": [
    "# Salaries over Time from 2013 - 2019"
   ]
  },
  {
   "cell_type": "markdown",
   "metadata": {},
   "source": [
    "https://salaryguide.dbknews.com/#/salGuide\n",
    "\n",
    "This URL contains a database of all the salaries of all faculty at UMD from 2013 to 2019. At first, we were going to scrape this data from it's web pages, but after talking to the staff who work on \"The Diamondback\", we learned that there is an API endpoint at `https://api.dbknews.com/`."
   ]
  },
  {
   "cell_type": "code",
   "execution_count": 1,
   "metadata": {},
   "outputs": [],
   "source": [
    "import numpy\n",
    "import pandas as pd\n",
    "import json\n",
    "import pickle\n",
    "import time\n",
    "\n",
    "import requests\n",
    "from requests.adapters import HTTPAdapter\n",
    "from requests.packages.urllib3.util.retry import Retry"
   ]
  },
  {
   "cell_type": "markdown",
   "metadata": {},
   "source": [
    "This code is updated as of 2019. If you would like to query data beyond 2019 (or potentially before 2013), you can modify the parameters shown directly below:"
   ]
  },
  {
   "cell_type": "code",
   "execution_count": 2,
   "metadata": {},
   "outputs": [],
   "source": [
    "start_year = 2013\n",
    "end_year = 2019"
   ]
  },
  {
   "cell_type": "markdown",
   "metadata": {},
   "source": [
    "Since there's thouands of faculty and therefore thousands of data points in a single year, all the data cannot be queried at once. Each query will give 10 faculty salaries and this is looped for all the salaries in the year."
   ]
  },
  {
   "cell_type": "code",
   "execution_count": 3,
   "metadata": {},
   "outputs": [],
   "source": [
    "session = requests.Session()\n",
    "retry = Retry(connect=3, backoff_factor=0.5)\n",
    "adapter = HTTPAdapter(max_retries=retry)\n",
    "session.mount('http://', adapter)\n",
    "session.mount('https://', adapter)"
   ]
  },
  {
   "cell_type": "code",
   "execution_count": 4,
   "metadata": {},
   "outputs": [],
   "source": [
    "yearQueries = list(map(str, range(start_year, end_year + 1)))\n",
    "\n",
    "json_responses = {}\n",
    "years = list(range(start_year, end_year + 1))\n",
    "for yr in years:\n",
    "    json_responses[str(yr)] = []"
   ]
  },
  {
   "cell_type": "code",
   "execution_count": 5,
   "metadata": {},
   "outputs": [],
   "source": [
    "for query in yearQueries: \n",
    "    response = session.get('https://api.dbknews.com/salary/year/' + query)\n",
    "    \n",
    "    data_raw = json.loads(response.content)\n",
    "    for i in range(0, int(data_raw[\"count\"] / 10 + 2)):\n",
    "        response = session.get('https://api.dbknews.com/salary/year/'+ query + '/?page=' + str(i))\n",
    "        if response.status_code == 200:\n",
    "            data = json.loads(response.content)\n",
    "            json_responses[query].append(data)\n",
    "        else:\n",
    "            print('Error ->\\tYear: ', query, \"\\tPage #: \", i)"
   ]
  },
  {
   "cell_type": "markdown",
   "metadata": {},
   "source": [
    "This data is then merged together and concatted. "
   ]
  },
  {
   "cell_type": "code",
   "execution_count": 6,
   "metadata": {},
   "outputs": [],
   "source": [
    "# Put dictionary array values into main dictinoary\n",
    "\n",
    "years = sorted(list(map(int, list(json_responses.keys()))))\n",
    "salary_dfs = {}\n",
    "for yr in years:\n",
    "    salary_dfs[str(yr)] = []\n",
    "\n",
    "for year in json_responses.keys():\n",
    "    for page in json_responses[year]:\n",
    "        if year in salary_dfs:\n",
    "            salary_dfs[year].extend(page['data'])"
   ]
  },
  {
   "cell_type": "code",
   "execution_count": 7,
   "metadata": {},
   "outputs": [],
   "source": [
    "# Convert dictionary array values into dataframes and concat dataframes\n",
    "\n",
    "for key in salary_dfs.keys():\n",
    "    salary_dfs[key] = pd.DataFrame(salary_dfs[key])\n",
    "    salary_dfs[key]['Year'] = key\n",
    "salaries = pd.concat(salary_dfs.values(), sort=True)"
   ]
  },
  {
   "cell_type": "markdown",
   "metadata": {},
   "source": [
    "We then dropped any duplicates and type casted the columns into the correct types."
   ]
  },
  {
   "cell_type": "code",
   "execution_count": 8,
   "metadata": {},
   "outputs": [],
   "source": [
    "salaries = salaries.drop_duplicates()\n",
    "salaries = salaries.reset_index()"
   ]
  },
  {
   "cell_type": "code",
   "execution_count": 9,
   "metadata": {},
   "outputs": [],
   "source": [
    "salaries['Year'] = salaries['Year'].astype(int)\n",
    "salaries['Salary'] = salaries['Salary'].replace('[\\$,]', '', regex=True).astype(float)"
   ]
  },
  {
   "cell_type": "code",
   "execution_count": 10,
   "metadata": {},
   "outputs": [],
   "source": [
    "salaries['School'] = salaries['Department'].apply(lambda x : x.partition('-')[0])"
   ]
  },
  {
   "cell_type": "code",
   "execution_count": 11,
   "metadata": {},
   "outputs": [],
   "source": [
    "salaries = salaries[['Year', 'School', 'Department', 'Division', 'Title', 'Employee', 'Salary']]"
   ]
  },
  {
   "cell_type": "code",
   "execution_count": 12,
   "metadata": {},
   "outputs": [
    {
     "data": {
      "text/html": [
       "<div>\n",
       "<style scoped>\n",
       "    .dataframe tbody tr th:only-of-type {\n",
       "        vertical-align: middle;\n",
       "    }\n",
       "\n",
       "    .dataframe tbody tr th {\n",
       "        vertical-align: top;\n",
       "    }\n",
       "\n",
       "    .dataframe thead th {\n",
       "        text-align: right;\n",
       "    }\n",
       "</style>\n",
       "<table border=\"1\" class=\"dataframe\">\n",
       "  <thead>\n",
       "    <tr style=\"text-align: right;\">\n",
       "      <th></th>\n",
       "      <th>Year</th>\n",
       "      <th>School</th>\n",
       "      <th>Department</th>\n",
       "      <th>Division</th>\n",
       "      <th>Title</th>\n",
       "      <th>Employee</th>\n",
       "      <th>Salary</th>\n",
       "    </tr>\n",
       "  </thead>\n",
       "  <tbody>\n",
       "    <tr>\n",
       "      <td>0</td>\n",
       "      <td>2013</td>\n",
       "      <td>ENGR</td>\n",
       "      <td>ENGR-Electrical &amp; Computer Engineering</td>\n",
       "      <td>A. James Clark School of Engineering</td>\n",
       "      <td>Prof</td>\n",
       "      <td>Abed, Eyad H</td>\n",
       "      <td>216648.00</td>\n",
       "    </tr>\n",
       "    <tr>\n",
       "      <td>1</td>\n",
       "      <td>2013</td>\n",
       "      <td>ENGR</td>\n",
       "      <td>ENGR-Electrical &amp; Computer Engineering</td>\n",
       "      <td>A. James Clark School of Engineering</td>\n",
       "      <td>Assoc Prof</td>\n",
       "      <td>Abshire, Pamela A.</td>\n",
       "      <td>82872.96</td>\n",
       "    </tr>\n",
       "    <tr>\n",
       "      <td>2</td>\n",
       "      <td>2013</td>\n",
       "      <td>ENGR</td>\n",
       "      <td>ENGR-Institute for Systems Research</td>\n",
       "      <td>A. James Clark School of Engineering</td>\n",
       "      <td>Assoc Prof</td>\n",
       "      <td>Abshire, Pamela A.</td>\n",
       "      <td>55149.36</td>\n",
       "    </tr>\n",
       "    <tr>\n",
       "      <td>3</td>\n",
       "      <td>2013</td>\n",
       "      <td>ENGR</td>\n",
       "      <td>ENGR-Fischell Department of Bioengineering</td>\n",
       "      <td>A. James Clark School of Engineering</td>\n",
       "      <td>Res Assoc Prof</td>\n",
       "      <td>Abts, Leigh R</td>\n",
       "      <td>126334.14</td>\n",
       "    </tr>\n",
       "    <tr>\n",
       "      <td>4</td>\n",
       "      <td>2013</td>\n",
       "      <td>ENGR</td>\n",
       "      <td>ENGR-Continuing &amp; Distance Learning in Engr</td>\n",
       "      <td>A. James Clark School of Engineering</td>\n",
       "      <td>Engineer</td>\n",
       "      <td>Adams, Douglas J</td>\n",
       "      <td>64260.00</td>\n",
       "    </tr>\n",
       "    <tr>\n",
       "      <td>...</td>\n",
       "      <td>...</td>\n",
       "      <td>...</td>\n",
       "      <td>...</td>\n",
       "      <td>...</td>\n",
       "      <td>...</td>\n",
       "      <td>...</td>\n",
       "      <td>...</td>\n",
       "    </tr>\n",
       "    <tr>\n",
       "      <td>76204</td>\n",
       "      <td>2019</td>\n",
       "      <td>VPUR</td>\n",
       "      <td>VPUR-VP University Relations</td>\n",
       "      <td>VP University Relations</td>\n",
       "      <td>Director</td>\n",
       "      <td>McNamee, Christina E.</td>\n",
       "      <td>93840.00</td>\n",
       "    </tr>\n",
       "    <tr>\n",
       "      <td>76205</td>\n",
       "      <td>2019</td>\n",
       "      <td>VPUR</td>\n",
       "      <td>VPUR-VP University Relations</td>\n",
       "      <td>VP University Relations</td>\n",
       "      <td>Director</td>\n",
       "      <td>Meyers, Deborah K.</td>\n",
       "      <td>129474.18</td>\n",
       "    </tr>\n",
       "    <tr>\n",
       "      <td>76206</td>\n",
       "      <td>2019</td>\n",
       "      <td>VPUR</td>\n",
       "      <td>VPUR-VP University Relations</td>\n",
       "      <td>VP University Relations</td>\n",
       "      <td>Director</td>\n",
       "      <td>Pinto, Virginia Cowherd</td>\n",
       "      <td>111955.20</td>\n",
       "    </tr>\n",
       "    <tr>\n",
       "      <td>76207</td>\n",
       "      <td>2019</td>\n",
       "      <td>VPUR</td>\n",
       "      <td>VPUR-VP University Relations</td>\n",
       "      <td>VP University Relations</td>\n",
       "      <td>Program Manager</td>\n",
       "      <td>Davis, Sarah Holmes</td>\n",
       "      <td>74016.30</td>\n",
       "    </tr>\n",
       "    <tr>\n",
       "      <td>76208</td>\n",
       "      <td>2019</td>\n",
       "      <td>VPUR</td>\n",
       "      <td>VPUR-VP University Relations</td>\n",
       "      <td>VP University Relations</td>\n",
       "      <td>Vice President</td>\n",
       "      <td>Lewis, Jackie</td>\n",
       "      <td>418200.00</td>\n",
       "    </tr>\n",
       "  </tbody>\n",
       "</table>\n",
       "<p>76209 rows × 7 columns</p>\n",
       "</div>"
      ],
      "text/plain": [
       "       Year School                                   Department  \\\n",
       "0      2013   ENGR       ENGR-Electrical & Computer Engineering   \n",
       "1      2013   ENGR       ENGR-Electrical & Computer Engineering   \n",
       "2      2013   ENGR          ENGR-Institute for Systems Research   \n",
       "3      2013   ENGR   ENGR-Fischell Department of Bioengineering   \n",
       "4      2013   ENGR  ENGR-Continuing & Distance Learning in Engr   \n",
       "...     ...    ...                                          ...   \n",
       "76204  2019   VPUR                 VPUR-VP University Relations   \n",
       "76205  2019   VPUR                 VPUR-VP University Relations   \n",
       "76206  2019   VPUR                 VPUR-VP University Relations   \n",
       "76207  2019   VPUR                 VPUR-VP University Relations   \n",
       "76208  2019   VPUR                 VPUR-VP University Relations   \n",
       "\n",
       "                                   Division            Title  \\\n",
       "0      A. James Clark School of Engineering             Prof   \n",
       "1      A. James Clark School of Engineering       Assoc Prof   \n",
       "2      A. James Clark School of Engineering       Assoc Prof   \n",
       "3      A. James Clark School of Engineering   Res Assoc Prof   \n",
       "4      A. James Clark School of Engineering         Engineer   \n",
       "...                                     ...              ...   \n",
       "76204               VP University Relations         Director   \n",
       "76205               VP University Relations         Director   \n",
       "76206               VP University Relations         Director   \n",
       "76207               VP University Relations  Program Manager   \n",
       "76208               VP University Relations   Vice President   \n",
       "\n",
       "                      Employee     Salary  \n",
       "0                 Abed, Eyad H  216648.00  \n",
       "1           Abshire, Pamela A.   82872.96  \n",
       "2           Abshire, Pamela A.   55149.36  \n",
       "3                Abts, Leigh R  126334.14  \n",
       "4             Adams, Douglas J   64260.00  \n",
       "...                        ...        ...  \n",
       "76204    McNamee, Christina E.   93840.00  \n",
       "76205       Meyers, Deborah K.  129474.18  \n",
       "76206  Pinto, Virginia Cowherd  111955.20  \n",
       "76207      Davis, Sarah Holmes   74016.30  \n",
       "76208            Lewis, Jackie  418200.00  \n",
       "\n",
       "[76209 rows x 7 columns]"
      ]
     },
     "execution_count": 12,
     "metadata": {},
     "output_type": "execute_result"
    }
   ],
   "source": [
    "salaries"
   ]
  },
  {
   "cell_type": "code",
   "execution_count": 13,
   "metadata": {},
   "outputs": [],
   "source": [
    "salaries.to_pickle('df/salaries')"
   ]
  },
  {
   "cell_type": "code",
   "execution_count": null,
   "metadata": {},
   "outputs": [],
   "source": []
  }
 ],
 "metadata": {
  "kernelspec": {
   "display_name": "Python 3",
   "language": "python",
   "name": "python3"
  },
  "language_info": {
   "codemirror_mode": {
    "name": "ipython",
    "version": 3
   },
   "file_extension": ".py",
   "mimetype": "text/x-python",
   "name": "python",
   "nbconvert_exporter": "python",
   "pygments_lexer": "ipython3",
   "version": "3.7.3"
  }
 },
 "nbformat": 4,
 "nbformat_minor": 2
}
