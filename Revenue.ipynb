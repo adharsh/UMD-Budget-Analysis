{
 "cells": [
  {
   "cell_type": "raw",
   "metadata": {},
   "source": [
    "http://otcads.umd.edu/bfa/budgetinfo3.htm"
   ]
  },
  {
   "cell_type": "raw",
   "metadata": {},
   "source": [
    "http://otcads.umd.edu/bfa/FY20%20Working%20Budget/Web/FY20%20REVENUE%20TOTAL%20OP%20BUDGET_files/sheet001.htm\n",
    "http://otcads.umd.edu/bfa/FY20%20Working%20Budget/Web/FY20%20REVENUE%20TOTAL%20OP%20BUDGET.htm"
   ]
  },
  {
   "cell_type": "code",
   "execution_count": 15,
   "metadata": {},
   "outputs": [],
   "source": [
    "import requests\n",
    "import pandas as pd\n",
    "from bs4 import BeautifulSoup\n",
    "import pickle"
   ]
  },
  {
   "cell_type": "code",
   "execution_count": 16,
   "metadata": {},
   "outputs": [],
   "source": [
    "url = 'http://otcads.umd.edu/bfa/FY20%20Working%20Budget/Web/FY20%20REVENUE%20TOTAL%20OP%20BUDGET_files/sheet001.htm'\n",
    "r = requests.get(url)"
   ]
  },
  {
   "cell_type": "code",
   "execution_count": 17,
   "metadata": {},
   "outputs": [],
   "source": [
    "soup = BeautifulSoup(r.text,'html.parser')"
   ]
  },
  {
   "cell_type": "code",
   "execution_count": 18,
   "metadata": {},
   "outputs": [
    {
     "data": {
      "text/plain": [
       "3"
      ]
     },
     "execution_count": 18,
     "metadata": {},
     "output_type": "execute_result"
    }
   ],
   "source": [
    "len(soup.find_all('table'))\n",
    "# other tables are empty"
   ]
  },
  {
   "cell_type": "code",
   "execution_count": 41,
   "metadata": {},
   "outputs": [],
   "source": [
    "str_table = []\n",
    "\n",
    "table = soup.find_all('table')[0]\n",
    "for e in table.find_all('td'):\n",
    "    if(not e.text.strip().isspace() and len(e.text.strip()) != 0):\n",
    "        str_table.append(e.text.strip().replace('\\r', '').replace('\\n','').replace('\\xa0', ''))"
   ]
  },
  {
   "cell_type": "code",
   "execution_count": 44,
   "metadata": {
    "scrolled": true
   },
   "outputs": [
    {
     "name": "stdout",
     "output_type": "stream",
     "text": [
      "0   UNIVERSITY OF MARYLAND, COLLEGE PARK\n",
      "1   FY 2020  TOTAL OPERATING BUDGET: REVENUE\n",
      "2   TOTAL REVENUE BY SOURCE  FY 2020\n",
      "3   UNRESTRICTED  REVENUE\n",
      "4   AMOUNT\n",
      "5   % OF TOTAL\n",
      "6   STATE  APPROPRIATIONS\n",
      "7   $567,662,254\n",
      "8   25.2%\n",
      "9   TUITION  AND FEES\n",
      "10   668,296,279\n",
      "11   29.7%\n",
      "12   AUXILIARY  ENTERPRISES\n",
      "13   312,085,904\n",
      "14   13.9%\n",
      "15   GOVT.  & PRIVATE GIFTS, GRANTS\n",
      "16   122,594,472\n",
      "17   5.4%\n",
      "18   SALES  & SERVICES OF EDUC. ACTIVITIES\n",
      "19   56,376,356\n",
      "20   2.5%\n",
      "21   OTHER  SOURCES\n",
      "22   60,843,955\n",
      "23   2.7%\n",
      "24   TOTAL  UNRESTRICTED\n",
      "25   $1,787,859,220\n",
      "26   79.4%\n",
      "27   RESTRICTED  REVENUE\n",
      "28   AMOUNT\n",
      "29   % OF TOTAL\n",
      "30   FEDERAL  GRANTS & CONTRACTS\n",
      "31   $329,756,432\n",
      "32   14.6%\n",
      "33   PRIVATE  GIFTS, GRANTS & CONTRACTS\n",
      "34   87,405,123\n",
      "35   3.9%\n",
      "36   STATE  & LOCAL GRANTS & CONTRACTS\n",
      "37   47,254,332\n",
      "38   2.1%\n",
      "39   TOTAL  RESTRICTED\n",
      "40   $464,415,887\n",
      "41   20.6%\n",
      "42   TOTAL  OPERATING BUDGET\n",
      "43   $2,252,275,107\n",
      "44   100%\n"
     ]
    }
   ],
   "source": [
    "for i in range(0, len(str_table)):\n",
    "    print(i, \" \", str_table[i])"
   ]
  },
  {
   "cell_type": "code",
   "execution_count": 47,
   "metadata": {},
   "outputs": [
    {
     "data": {
      "text/html": [
       "<div>\n",
       "<style scoped>\n",
       "    .dataframe tbody tr th:only-of-type {\n",
       "        vertical-align: middle;\n",
       "    }\n",
       "\n",
       "    .dataframe tbody tr th {\n",
       "        vertical-align: top;\n",
       "    }\n",
       "\n",
       "    .dataframe thead th {\n",
       "        text-align: right;\n",
       "    }\n",
       "</style>\n",
       "<table border=\"1\" class=\"dataframe\">\n",
       "  <thead>\n",
       "    <tr style=\"text-align: right;\">\n",
       "      <th></th>\n",
       "      <th>Restricted Type</th>\n",
       "      <th>Revenue Type</th>\n",
       "      <th>Amount</th>\n",
       "      <th>% of Total</th>\n",
       "    </tr>\n",
       "  </thead>\n",
       "  <tbody>\n",
       "    <tr>\n",
       "      <td>0</td>\n",
       "      <td>Unrestricted Revenue</td>\n",
       "      <td>State  Appropriations</td>\n",
       "      <td>$567,662,254</td>\n",
       "      <td>25.2%</td>\n",
       "    </tr>\n",
       "    <tr>\n",
       "      <td>1</td>\n",
       "      <td>Unrestricted Revenue</td>\n",
       "      <td>Tuition  And Fees</td>\n",
       "      <td>668,296,279</td>\n",
       "      <td>29.7%</td>\n",
       "    </tr>\n",
       "    <tr>\n",
       "      <td>2</td>\n",
       "      <td>Unrestricted Revenue</td>\n",
       "      <td>Auxiliary  Enterprises</td>\n",
       "      <td>312,085,904</td>\n",
       "      <td>13.9%</td>\n",
       "    </tr>\n",
       "    <tr>\n",
       "      <td>3</td>\n",
       "      <td>Unrestricted Revenue</td>\n",
       "      <td>Govt.  &amp; Private Gifts, Grants</td>\n",
       "      <td>122,594,472</td>\n",
       "      <td>5.4%</td>\n",
       "    </tr>\n",
       "    <tr>\n",
       "      <td>4</td>\n",
       "      <td>Unrestricted Revenue</td>\n",
       "      <td>Sales  &amp; Services Of Educ. Activities</td>\n",
       "      <td>56,376,356</td>\n",
       "      <td>2.5%</td>\n",
       "    </tr>\n",
       "    <tr>\n",
       "      <td>5</td>\n",
       "      <td>Unrestricted Revenue</td>\n",
       "      <td>Other  Sources</td>\n",
       "      <td>60,843,955</td>\n",
       "      <td>2.7%</td>\n",
       "    </tr>\n",
       "    <tr>\n",
       "      <td>6</td>\n",
       "      <td>Unrestricted Revenue</td>\n",
       "      <td>Total  Unrestricted</td>\n",
       "      <td>$1,787,859,220</td>\n",
       "      <td>79.4%</td>\n",
       "    </tr>\n",
       "    <tr>\n",
       "      <td>7</td>\n",
       "      <td>Restricted Revenue</td>\n",
       "      <td>Federal  Grants &amp; Contracts</td>\n",
       "      <td>$329,756,432</td>\n",
       "      <td>14.6%</td>\n",
       "    </tr>\n",
       "    <tr>\n",
       "      <td>8</td>\n",
       "      <td>Restricted Revenue</td>\n",
       "      <td>Private  Gifts, Grants &amp; Contracts</td>\n",
       "      <td>87,405,123</td>\n",
       "      <td>3.9%</td>\n",
       "    </tr>\n",
       "    <tr>\n",
       "      <td>9</td>\n",
       "      <td>Restricted Revenue</td>\n",
       "      <td>State  &amp; Local Grants &amp; Contracts</td>\n",
       "      <td>47,254,332</td>\n",
       "      <td>2.1%</td>\n",
       "    </tr>\n",
       "    <tr>\n",
       "      <td>10</td>\n",
       "      <td>Restricted Revenue</td>\n",
       "      <td>Total  Restricted</td>\n",
       "      <td>$464,415,887</td>\n",
       "      <td>20.6%</td>\n",
       "    </tr>\n",
       "    <tr>\n",
       "      <td>11</td>\n",
       "      <td>Restricted Revenue</td>\n",
       "      <td>Total  Operating Budget</td>\n",
       "      <td>$2,252,275,107</td>\n",
       "      <td>100%</td>\n",
       "    </tr>\n",
       "  </tbody>\n",
       "</table>\n",
       "</div>"
      ],
      "text/plain": [
       "         Restricted Type                           Revenue Type  \\\n",
       "0   Unrestricted Revenue                  State  Appropriations   \n",
       "1   Unrestricted Revenue                      Tuition  And Fees   \n",
       "2   Unrestricted Revenue                 Auxiliary  Enterprises   \n",
       "3   Unrestricted Revenue         Govt.  & Private Gifts, Grants   \n",
       "4   Unrestricted Revenue  Sales  & Services Of Educ. Activities   \n",
       "5   Unrestricted Revenue                         Other  Sources   \n",
       "6   Unrestricted Revenue                    Total  Unrestricted   \n",
       "7     Restricted Revenue            Federal  Grants & Contracts   \n",
       "8     Restricted Revenue     Private  Gifts, Grants & Contracts   \n",
       "9     Restricted Revenue      State  & Local Grants & Contracts   \n",
       "10    Restricted Revenue                      Total  Restricted   \n",
       "11    Restricted Revenue                Total  Operating Budget   \n",
       "\n",
       "            Amount % of Total  \n",
       "0     $567,662,254      25.2%  \n",
       "1      668,296,279      29.7%  \n",
       "2      312,085,904      13.9%  \n",
       "3      122,594,472       5.4%  \n",
       "4       56,376,356       2.5%  \n",
       "5       60,843,955       2.7%  \n",
       "6   $1,787,859,220      79.4%  \n",
       "7     $329,756,432      14.6%  \n",
       "8       87,405,123       3.9%  \n",
       "9       47,254,332       2.1%  \n",
       "10    $464,415,887      20.6%  \n",
       "11  $2,252,275,107       100%  "
      ]
     },
     "execution_count": 47,
     "metadata": {},
     "output_type": "execute_result"
    }
   ],
   "source": [
    "i = 6\n",
    "\n",
    "revenues_tmp = pd.DataFrame(columns=['Restricted Type', 'Revenue Type', 'Amount', '% of Total'])\n",
    "\n",
    "while(i <= 26):    \n",
    "    dictionary = {\n",
    "        'Restricted Type' : 'Unrestricted Revenue',\n",
    "        'Revenue Type' : str_table[i].title(),\n",
    "        'Amount' : str_table[i + 1],\n",
    "        '% of Total' : str_table[i + 2],\n",
    "    }\n",
    "    revenues_tmp = revenues_tmp.append(dictionary, ignore_index=True)\n",
    "    i = i + 3\n",
    "\n",
    "i = 30\n",
    "while(i <= 44):    \n",
    "    dictionary = {\n",
    "        'Restricted Type' : 'Restricted Revenue',\n",
    "        'Revenue Type' : str_table[i].title(),\n",
    "        'Amount' : str_table[i + 1],\n",
    "        '% of Total' : str_table[i + 2],\n",
    "    }\n",
    "    revenues_tmp = revenues_tmp.append(dictionary, ignore_index=True)\n",
    "    i = i + 3\n",
    "\n",
    "    \n",
    "revenues_tmp"
   ]
  },
  {
   "cell_type": "code",
   "execution_count": null,
   "metadata": {},
   "outputs": [],
   "source": []
  }
 ],
 "metadata": {
  "kernelspec": {
   "display_name": "Python 3",
   "language": "python",
   "name": "python3"
  },
  "language_info": {
   "codemirror_mode": {
    "name": "ipython",
    "version": 3
   },
   "file_extension": ".py",
   "mimetype": "text/x-python",
   "name": "python",
   "nbconvert_exporter": "python",
   "pygments_lexer": "ipython3",
   "version": "3.7.3"
  }
 },
 "nbformat": 4,
 "nbformat_minor": 2
}
